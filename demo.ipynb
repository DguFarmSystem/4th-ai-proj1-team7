{
 "cells": [
  {
   "cell_type": "code",
   "execution_count": null,
   "metadata": {},
   "outputs": [],
   "source": [
    "import IPython\n",
    "from video2music import Video2music\n",
    "\n",
    "input_video = \"test.mp4\"\n",
    "\n",
    "input_primer = \"C Am F G\"\n",
    "input_key = \"C major\"\n",
    "\n",
    "video2music = Video2music()\n",
    "output_filename = video2music.generate(input_video, input_primer, input_key)\n",
    "\n",
    "IPython.display.Video(output_filename)"
   ]
  }
 ],
 "metadata": {
  "kernelspec": {
   "display_name": "video2music",
   "language": "python",
   "name": "video2music"
  },
  "language_info": {
   "codemirror_mode": {
    "name": "ipython",
    "version": 3
   },
   "file_extension": ".py",
   "mimetype": "text/x-python",
   "name": "python",
   "nbconvert_exporter": "python",
   "pygments_lexer": "ipython3",
   "version": "3.8.18"
  }
 },
 "nbformat": 4,
 "nbformat_minor": 2
}
